{
 "cells": [
  {
   "cell_type": "code",
   "execution_count": 4,
   "id": "ba5e2f37",
   "metadata": {},
   "outputs": [],
   "source": [
    "import pandas as pd\n",
    "import numpy as np\n",
    "import pickle"
   ]
  },
  {
   "cell_type": "code",
   "execution_count": 5,
   "id": "cecd7c57",
   "metadata": {},
   "outputs": [],
   "source": [
    "f = open('data_list.pickle', 'rb')\n",
    "data = pickle.load(f)"
   ]
  },
  {
   "cell_type": "code",
   "execution_count": 3,
   "id": "7071f7f8",
   "metadata": {},
   "outputs": [
    {
     "ename": "ValueError",
     "evalue": "setting an array element with a sequence. The requested array has an inhomogeneous shape after 2 dimensions. The detected shape was (2, 72641) + inhomogeneous part.",
     "output_type": "error",
     "traceback": [
      "\u001b[1;31m---------------------------------------------------------------------------\u001b[0m",
      "\u001b[1;31mValueError\u001b[0m                                Traceback (most recent call last)",
      "\u001b[1;32m~\\AppData\\Local\\Temp/ipykernel_32636/3657394142.py\u001b[0m in \u001b[0;36m<module>\u001b[1;34m\u001b[0m\n\u001b[1;32m----> 1\u001b[1;33m \u001b[0mdata\u001b[0m \u001b[1;33m=\u001b[0m \u001b[0mnp\u001b[0m\u001b[1;33m.\u001b[0m\u001b[0marray\u001b[0m\u001b[1;33m(\u001b[0m\u001b[0mdata\u001b[0m\u001b[1;33m,\u001b[0m \u001b[0mdtype\u001b[0m\u001b[1;33m=\u001b[0m\u001b[0mnp\u001b[0m\u001b[1;33m.\u001b[0m\u001b[0mfloat64\u001b[0m\u001b[1;33m)\u001b[0m\u001b[1;33m\u001b[0m\u001b[1;33m\u001b[0m\u001b[0m\n\u001b[0m",
      "\u001b[1;31mValueError\u001b[0m: setting an array element with a sequence. The requested array has an inhomogeneous shape after 2 dimensions. The detected shape was (2, 72641) + inhomogeneous part."
     ]
    }
   ],
   "source": [
    "data = np.array(data)"
   ]
  },
  {
   "cell_type": "code",
   "execution_count": 4,
   "id": "7095d289",
   "metadata": {},
   "outputs": [
    {
     "name": "stdout",
     "output_type": "stream",
     "text": [
      "<class 'list'>\n"
     ]
    }
   ],
   "source": [
    "print(type(data))"
   ]
  },
  {
   "cell_type": "code",
   "execution_count": 6,
   "id": "01d13fb0",
   "metadata": {},
   "outputs": [
    {
     "data": {
      "text/plain": [
       "(2, 72630)"
      ]
     },
     "execution_count": 6,
     "metadata": {},
     "output_type": "execute_result"
    }
   ],
   "source": [
    "data.shape"
   ]
  },
  {
   "cell_type": "code",
   "execution_count": null,
   "id": "e1757027",
   "metadata": {},
   "outputs": [],
   "source": []
  },
  {
   "cell_type": "code",
   "execution_count": 6,
   "id": "b7b0d42a",
   "metadata": {},
   "outputs": [],
   "source": [
    "sample = data[0]\n",
    "target = data[1]"
   ]
  },
  {
   "cell_type": "code",
   "execution_count": 14,
   "id": "eef11a9c",
   "metadata": {},
   "outputs": [
    {
     "ename": "ValueError",
     "evalue": "not enough values to unpack (expected 2, got 1)",
     "output_type": "error",
     "traceback": [
      "\u001b[1;31m---------------------------------------------------------------------------\u001b[0m",
      "\u001b[1;31mValueError\u001b[0m                                Traceback (most recent call last)",
      "\u001b[1;32m~\\AppData\\Local\\Temp/ipykernel_26064/3282583521.py\u001b[0m in \u001b[0;36m<module>\u001b[1;34m\u001b[0m\n\u001b[1;32m----> 1\u001b[1;33m \u001b[0mj\u001b[0m\u001b[1;33m,\u001b[0m \u001b[0mo\u001b[0m \u001b[1;33m=\u001b[0m \u001b[0msample\u001b[0m\u001b[1;33m[\u001b[0m\u001b[1;36m0\u001b[0m\u001b[1;33m]\u001b[0m\u001b[1;33m.\u001b[0m\u001b[0mshape\u001b[0m\u001b[1;33m\u001b[0m\u001b[1;33m\u001b[0m\u001b[0m\n\u001b[0m",
      "\u001b[1;31mValueError\u001b[0m: not enough values to unpack (expected 2, got 1)"
     ]
    }
   ],
   "source": [
    "j, o = sample[0].shape"
   ]
  },
  {
   "cell_type": "code",
   "execution_count": 6,
   "id": "a92a2d6c",
   "metadata": {},
   "outputs": [
    {
     "ename": "NameError",
     "evalue": "name 'j' is not defined",
     "output_type": "error",
     "traceback": [
      "\u001b[1;31m---------------------------------------------------------------------------\u001b[0m",
      "\u001b[1;31mNameError\u001b[0m                                 Traceback (most recent call last)",
      "\u001b[1;32m~\\AppData\\Local\\Temp/ipykernel_32636/91562443.py\u001b[0m in \u001b[0;36m<module>\u001b[1;34m\u001b[0m\n\u001b[1;32m----> 1\u001b[1;33m \u001b[0mprint\u001b[0m\u001b[1;33m(\u001b[0m\u001b[0mj\u001b[0m\u001b[1;33m[\u001b[0m\u001b[1;36m0\u001b[0m\u001b[1;33m]\u001b[0m\u001b[1;33m)\u001b[0m\u001b[1;33m\u001b[0m\u001b[1;33m\u001b[0m\u001b[0m\n\u001b[0m",
      "\u001b[1;31mNameError\u001b[0m: name 'j' is not defined"
     ]
    }
   ],
   "source": [
    "print(j[0])"
   ]
  },
  {
   "cell_type": "code",
   "execution_count": 7,
   "id": "a08650b4",
   "metadata": {},
   "outputs": [
    {
     "name": "stdout",
     "output_type": "stream",
     "text": [
      "4980 30\n"
     ]
    }
   ],
   "source": [
    "max1, max2 = 0, 0\n",
    "for i in range(72641):\n",
    "    j = sample[i].shape\n",
    "    k = target[i].shape\n",
    "    if j[0] > max1:\n",
    "        max1 = j[0]\n",
    "    if k[0] > max2:\n",
    "        max2 = k[0]\n",
    "print(max1, max2)\n",
    "    \n",
    "    \n",
    "    "
   ]
  },
  {
   "cell_type": "code",
   "execution_count": 7,
   "id": "ad88d68c",
   "metadata": {},
   "outputs": [],
   "source": [
    "sample_array = [np.pad(x, (0, 4980 - len(x)), 'constant') for x in sample]\n",
    "target_array = [np.pad(x, (0, 30 - len(x)), 'constant') for x in target]"
   ]
  },
  {
   "cell_type": "code",
   "execution_count": 22,
   "id": "6f7e697e",
   "metadata": {},
   "outputs": [
    {
     "name": "stdout",
     "output_type": "stream",
     "text": [
      "a\n",
      "True\n"
     ]
    }
   ],
   "source": [
    "if np.isnan(sample_array).any():\n",
    "    print('a')\n",
    "print(np.isnan(sample_array).any())"
   ]
  },
  {
   "cell_type": "code",
   "execution_count": 8,
   "id": "2e515d1a",
   "metadata": {},
   "outputs": [],
   "source": [
    "sample_array = np.array(sample_array)\n",
    "target_array = np.array(target_array)\n",
    "sample_array[np.isnan(sample_array)] = 0\n",
    "target_array[np.isnan(target_array)] = 0"
   ]
  },
  {
   "cell_type": "code",
   "execution_count": 9,
   "id": "e2ca689b",
   "metadata": {},
   "outputs": [],
   "source": [
    "sample = None\n",
    "target = None\n",
    "data = None"
   ]
  },
  {
   "cell_type": "code",
   "execution_count": 2,
   "id": "d1adc34d",
   "metadata": {},
   "outputs": [],
   "source": [
    "import tensorflow as tf\n",
    "from tensorflow import keras\n",
    "from tensorflow.keras import layers"
   ]
  },
  {
   "cell_type": "code",
   "execution_count": 69,
   "id": "eb29b206",
   "metadata": {},
   "outputs": [],
   "source": [
    "def build_and_compile_model(norm):\n",
    "    drop=0.5\n",
    "    model = keras.Sequential([\n",
    "    layers.Dense(4980, activation='linear'),\n",
    "    layers.BatchNormalization(),\n",
    "    #layers.Dense(2800, activation='relu'),\n",
    "    #layers.BatchNormalization(),\n",
    "    #layers.Dropout(drop),\n",
    "    #layers.Dense(2200, activation='relu'),\n",
    "    #layers.Dropout(drop),\n",
    "    #layers.Dense(1500, activation='relu'),\n",
    "    #layers.BatchNormalization(),\n",
    "    #layers.Dropout(drop),\n",
    "    layers.Dense(2000, activation='relu'),\n",
    "    layers.BatchNormalization(),\n",
    "    layers.Dropout(drop),\n",
    "    layers.Dense(1000, activation='relu'),\n",
    "    layers.BatchNormalization(),\n",
    "    #layers.Dropout(drop),\n",
    "    layers.Dense(500, activation='relu'),\n",
    "    layers.BatchNormalization(),\n",
    "    #layers.Dropout(drop),\n",
    "    layers.Dense(200, activation='relu'),\n",
    "    layers.BatchNormalization(),\n",
    "    #layers.Dropout(drop),\n",
    "    layers.Dense(30, activation='linear')\n",
    "  ])\n",
    "\n",
    "    model.compile(loss='mean_absolute_error',\n",
    "                optimizer=tf.keras.optimizers.Adam(0.0001))\n",
    "    return model"
   ]
  },
  {
   "cell_type": "code",
   "execution_count": 13,
   "id": "1e6d03c3",
   "metadata": {},
   "outputs": [
    {
     "name": "stdout",
     "output_type": "stream",
     "text": [
      "72641 72641\n"
     ]
    }
   ],
   "source": [
    "print(len(sample_array), len(target_array))"
   ]
  },
  {
   "cell_type": "code",
   "execution_count": 10,
   "id": "808c4b53",
   "metadata": {},
   "outputs": [],
   "source": [
    "train_features = sample_array[:58100]\n",
    "test_features = sample_array[58100:]\n",
    "train_labels = target_array[:58100]\n",
    "test_lables = target_array[58100:]"
   ]
  },
  {
   "cell_type": "code",
   "execution_count": 71,
   "id": "c6554245",
   "metadata": {},
   "outputs": [],
   "source": [
    "model1 = build_and_compile_model(1)"
   ]
  },
  {
   "cell_type": "code",
   "execution_count": 11,
   "id": "d3176fc5",
   "metadata": {},
   "outputs": [],
   "source": [
    "x = np.array(train_features)\n",
    "y = np.array(train_labels)"
   ]
  },
  {
   "cell_type": "code",
   "execution_count": 72,
   "id": "dee114e6",
   "metadata": {},
   "outputs": [
    {
     "name": "stdout",
     "output_type": "stream",
     "text": [
      "Epoch 1/25\n",
      "1162/1162 [==============================] - 12s 9ms/step - loss: 12.7387\n",
      "Epoch 2/25\n",
      "1162/1162 [==============================] - 11s 9ms/step - loss: 7.7102\n",
      "Epoch 3/25\n",
      "1162/1162 [==============================] - 11s 9ms/step - loss: 4.7794\n",
      "Epoch 4/25\n",
      "1162/1162 [==============================] - 11s 9ms/step - loss: 4.1930\n",
      "Epoch 5/25\n",
      "1162/1162 [==============================] - 11s 9ms/step - loss: 4.0656\n",
      "Epoch 6/25\n",
      "1162/1162 [==============================] - 11s 9ms/step - loss: 3.9962\n",
      "Epoch 7/25\n",
      "1162/1162 [==============================] - 11s 9ms/step - loss: 3.9410\n",
      "Epoch 8/25\n",
      "1162/1162 [==============================] - 11s 9ms/step - loss: 3.8974\n",
      "Epoch 9/25\n",
      "1162/1162 [==============================] - 11s 9ms/step - loss: 3.8569\n",
      "Epoch 10/25\n",
      "1162/1162 [==============================] - 11s 9ms/step - loss: 3.8170\n",
      "Epoch 11/25\n",
      "1162/1162 [==============================] - 11s 9ms/step - loss: 3.7832\n",
      "Epoch 12/25\n",
      "1162/1162 [==============================] - 11s 9ms/step - loss: 3.7525\n",
      "Epoch 13/25\n",
      "1162/1162 [==============================] - 11s 9ms/step - loss: 3.7353\n",
      "Epoch 14/25\n",
      "1162/1162 [==============================] - 11s 9ms/step - loss: 3.7106\n",
      "Epoch 15/25\n",
      "1162/1162 [==============================] - 11s 9ms/step - loss: 3.6936\n",
      "Epoch 16/25\n",
      "1162/1162 [==============================] - 11s 9ms/step - loss: 3.6710\n",
      "Epoch 17/25\n",
      "1162/1162 [==============================] - 11s 9ms/step - loss: 3.6554\n",
      "Epoch 18/25\n",
      "1162/1162 [==============================] - 11s 10ms/step - loss: 3.6396\n",
      "Epoch 19/25\n",
      "1162/1162 [==============================] - 11s 9ms/step - loss: 3.6262\n",
      "Epoch 20/25\n",
      "1162/1162 [==============================] - 11s 9ms/step - loss: 3.6091\n",
      "Epoch 21/25\n",
      "1162/1162 [==============================] - 11s 9ms/step - loss: 3.5982\n",
      "Epoch 22/25\n",
      "1162/1162 [==============================] - 11s 9ms/step - loss: 3.5844\n",
      "Epoch 23/25\n",
      "1162/1162 [==============================] - 11s 9ms/step - loss: 3.5704\n",
      "Epoch 24/25\n",
      "1162/1162 [==============================] - 11s 9ms/step - loss: 3.5601\n",
      "Epoch 25/25\n",
      "1162/1162 [==============================] - 11s 9ms/step - loss: 3.5461\n"
     ]
    },
    {
     "data": {
      "text/plain": [
       "<tensorflow.python.keras.callbacks.History at 0x1bbc00ad5e0>"
      ]
     },
     "execution_count": 72,
     "metadata": {},
     "output_type": "execute_result"
    }
   ],
   "source": [
    "model1.fit(x, y, epochs=25, batch_size=50)"
   ]
  },
  {
   "cell_type": "code",
   "execution_count": 87,
   "id": "21bf27e7",
   "metadata": {},
   "outputs": [
    {
     "name": "stdout",
     "output_type": "stream",
     "text": [
      "INFO:tensorflow:Assets written to: models\\mae3.5\\assets\n"
     ]
    }
   ],
   "source": [
    "model1.save('models\\\\mae3.5')"
   ]
  },
  {
   "cell_type": "code",
   "execution_count": 19,
   "id": "067dbb09",
   "metadata": {},
   "outputs": [],
   "source": [
    "y_test = np.array(test_features)"
   ]
  },
  {
   "cell_type": "raw",
   "id": "5995d2a1",
   "metadata": {},
   "source": [
    "y_test = np.array(test_features)"
   ]
  },
  {
   "cell_type": "code",
   "execution_count": 73,
   "id": "8662a3f4",
   "metadata": {},
   "outputs": [],
   "source": [
    "gg = model1.predict(y_test)"
   ]
  },
  {
   "cell_type": "code",
   "execution_count": 23,
   "id": "dbbd2a81",
   "metadata": {},
   "outputs": [],
   "source": [
    "eql = np.arange(0, 50)"
   ]
  },
  {
   "cell_type": "code",
   "execution_count": 21,
   "id": "3513b560",
   "metadata": {},
   "outputs": [],
   "source": [
    "ind = 100\n",
    "ind2 = ind + 10"
   ]
  },
  {
   "cell_type": "code",
   "execution_count": 27,
   "id": "b406c2d4",
   "metadata": {},
   "outputs": [
    {
     "data": {
      "image/png": "[encoded data removed]",
      "text/plain": [
       "<Figure size 432x288 with 1 Axes>"
      ]
     },
     "metadata": {
      "needs_background": "light"
     },
     "output_type": "display_data"
    }
   ],
   "source": [
    "import matplotlib.pyplot as plt\n",
    "plt.plot(eql, eql, 'g-')\n",
    "plt.xlabel('pred')\n",
    "plt.ylabel('real')\n",
    "for i in range(ind, ind2):\n",
    "    plt.plot(gg[i], test_lables[i], 'bo')\n",
    "plt.show()\n",
    "ind +=100\n",
    "ind2 += 100"
   ]
  },
  {
   "cell_type": "code",
   "execution_count": 117,
   "id": "7711ea21",
   "metadata": {},
   "outputs": [
    {
     "data": {
      "text/plain": [
       "4.5959904461576855"
      ]
     },
     "execution_count": 117,
     "metadata": {},
     "output_type": "execute_result"
    }
   ],
   "source": [
    "np.mean(np.abs(np.mean(np.abs(gg - test_lables))))"
   ]
  },
  {
   "cell_type": "code",
   "execution_count": 65,
   "id": "fe09f6ad",
   "metadata": {},
   "outputs": [
    {
     "name": "stdout",
     "output_type": "stream",
     "text": [
      "(3480,)\n"
     ]
    }
   ],
   "source": [
    "import sys\n",
    "np.set_printoptions(threshold=sys.maxsize)\n",
    "print(train_features[1].shape)"
   ]
  },
  {
   "cell_type": "code",
   "execution_count": 66,
   "id": "1c0b1ce0",
   "metadata": {},
   "outputs": [
    {
     "name": "stdout",
     "output_type": "stream",
     "text": [
      "[44.25 31.5  23.   23.5  28.25 26.5  25.75 11.5   6.75 10.75 41.75 44.75\n",
      " 49.5  42.75 25.75 26.25 13.   26.75  5.25  6.    0.    0.    0.    0.\n",
      "  0.    0.    0.    0.    0.    0.  ]\n"
     ]
    }
   ],
   "source": [
    "print(test_lables[0])"
   ]
  },
  {
   "cell_type": "code",
   "execution_count": 54,
   "id": "1e36b074",
   "metadata": {},
   "outputs": [],
   "source": [
    "sample_array = None\n",
    "target_array = None"
   ]
  },
  {
   "cell_type": "code",
   "execution_count": 56,
   "id": "b449c6ac",
   "metadata": {},
   "outputs": [],
   "source": [
    "train_features = None\n",
    "train_labels = None"
   ]
  },
  {
   "cell_type": "code",
   "execution_count": 57,
   "id": "8bf7091f",
   "metadata": {},
   "outputs": [],
   "source": [
    "test_features = None"
   ]
  },
  {
   "cell_type": "code",
   "execution_count": 58,
   "id": "5c291565",
   "metadata": {},
   "outputs": [],
   "source": [
    "train_features = None"
   ]
  },
  {
   "cell_type": "code",
   "execution_count": 3,
   "id": "2287a657",
   "metadata": {},
   "outputs": [],
   "source": [
    "model2 = keras.models.load_model('models\\\\mae3.5')"
   ]
  },
  {
   "cell_type": "code",
   "execution_count": 18,
   "id": "fb515af0",
   "metadata": {},
   "outputs": [
    {
     "name": "stdout",
     "output_type": "stream",
     "text": [
      "Epoch 1/25\n",
      "1162/1162 [==============================] - 11s 10ms/step - loss: 2.5193\n",
      "Epoch 2/25\n",
      "1162/1162 [==============================] - 11s 10ms/step - loss: 2.5211\n",
      "Epoch 3/25\n",
      "1162/1162 [==============================] - 11s 9ms/step - loss: 2.5155\n",
      "Epoch 4/25\n",
      "1162/1162 [==============================] - 11s 9ms/step - loss: 2.5162\n",
      "Epoch 5/25\n",
      "1162/1162 [==============================] - 11s 9ms/step - loss: 2.5125\n",
      "Epoch 6/25\n",
      "1162/1162 [==============================] - 11s 9ms/step - loss: 2.5136\n",
      "Epoch 7/25\n",
      "1162/1162 [==============================] - 11s 9ms/step - loss: 2.5135\n",
      "Epoch 8/25\n",
      "1162/1162 [==============================] - 11s 9ms/step - loss: 2.5089\n",
      "Epoch 9/25\n",
      "1162/1162 [==============================] - 11s 9ms/step - loss: 2.5045\n",
      "Epoch 10/25\n",
      "1162/1162 [==============================] - 11s 9ms/step - loss: 2.5026\n",
      "Epoch 11/25\n",
      "1162/1162 [==============================] - 11s 9ms/step - loss: 2.5128\n",
      "Epoch 12/25\n",
      "1162/1162 [==============================] - 11s 9ms/step - loss: 2.5068\n",
      "Epoch 13/25\n",
      "1162/1162 [==============================] - 11s 9ms/step - loss: 2.5040\n",
      "Epoch 14/25\n",
      "1162/1162 [==============================] - 11s 9ms/step - loss: 2.5020\n",
      "Epoch 15/25\n",
      "1162/1162 [==============================] - 11s 9ms/step - loss: 2.5041\n",
      "Epoch 16/25\n",
      "1162/1162 [==============================] - 11s 9ms/step - loss: 2.4970\n",
      "Epoch 17/25\n",
      "1162/1162 [==============================] - 11s 9ms/step - loss: 2.4971\n",
      "Epoch 18/25\n",
      "1162/1162 [==============================] - 11s 9ms/step - loss: 2.4999\n",
      "Epoch 19/25\n",
      "1162/1162 [==============================] - 11s 9ms/step - loss: 2.4986\n",
      "Epoch 20/25\n",
      "1162/1162 [==============================] - 11s 9ms/step - loss: 2.4996\n",
      "Epoch 21/25\n",
      "1162/1162 [==============================] - 11s 9ms/step - loss: 2.4932\n",
      "Epoch 22/25\n",
      "1162/1162 [==============================] - 11s 9ms/step - loss: 2.4983\n",
      "Epoch 23/25\n",
      "1162/1162 [==============================] - 11s 9ms/step - loss: 2.4968\n",
      "Epoch 24/25\n",
      "1162/1162 [==============================] - 10s 9ms/step - loss: 2.4957\n",
      "Epoch 25/25\n",
      "1162/1162 [==============================] - 10s 9ms/step - loss: 2.4902\n"
     ]
    },
    {
     "data": {
      "text/plain": [
       "<tensorflow.python.keras.callbacks.History at 0x21eb12fa310>"
      ]
     },
     "execution_count": 18,
     "metadata": {},
     "output_type": "execute_result"
    }
   ],
   "source": [
    "model2.fit(x, y, epochs=25, batch_size=50)"
   ]
  },
  {
   "cell_type": "code",
   "execution_count": 19,
   "id": "e51cfda0",
   "metadata": {},
   "outputs": [
    {
     "name": "stdout",
     "output_type": "stream",
     "text": [
      "INFO:tensorflow:Assets written to: models\\mae2.5\\assets\n"
     ]
    }
   ],
   "source": [
    "model2.save('models\\\\mae2.5')"
   ]
  },
  {
   "cell_type": "code",
   "execution_count": 20,
   "id": "7a018e39",
   "metadata": {},
   "outputs": [],
   "source": [
    "y_test = np.array(test_features)\n",
    "gg = model2.predict(y_test)"
   ]
  },
  {
   "cell_type": "code",
   "execution_count": 32,
   "id": "10496976",
   "metadata": {},
   "outputs": [
    {
     "data": {
      "text/plain": [
       "array([[44.25, 31.5 , 23.  , ...,  0.  ,  0.  ,  0.  ],\n",
       "       [46.5 , 41.5 , 26.25, ...,  0.  ,  0.  ,  0.  ],\n",
       "       [36.  , 24.  , 34.75, ...,  0.  ,  0.  ,  0.  ],\n",
       "       ...,\n",
       "       [60.  , 39.  , 35.75, ...,  0.  ,  0.  ,  0.  ],\n",
       "       [43.75, 36.5 , 28.75, ...,  0.  ,  0.  ,  0.  ],\n",
       "       [44.5 , 47.25, 28.5 , ...,  0.  ,  0.  ,  0.  ]])"
      ]
     },
     "execution_count": 32,
     "metadata": {},
     "output_type": "execute_result"
    }
   ],
   "source": [
    "test_lables"
   ]
  },
  {
   "cell_type": "code",
   "execution_count": 33,
   "id": "708828ad",
   "metadata": {},
   "outputs": [],
   "source": [
    "x = [1,2,3]\n",
    "t = np.pad(x, (0, 5 - len(x)), 'constant')"
   ]
  },
  {
   "cell_type": "code",
   "execution_count": 35,
   "id": "260c4a62",
   "metadata": {},
   "outputs": [
    {
     "data": {
      "text/plain": [
       "numpy.ndarray"
      ]
     },
     "execution_count": 35,
     "metadata": {},
     "output_type": "execute_result"
    }
   ],
   "source": [
    "type(t)"
   ]
  },
  {
   "cell_type": "code",
   "execution_count": null,
   "id": "3c035614",
   "metadata": {},
   "outputs": [],
   "source": []
  }
 ],
 "metadata": {
  "kernelspec": {
   "display_name": "Python 3 (ipykernel)",
   "language": "python",
   "name": "python3"
  },
  "language_info": {
   "codemirror_mode": {
    "name": "ipython",
    "version": 3
   },
   "file_extension": ".py",
   "mimetype": "text/x-python",
   "name": "python",
   "nbconvert_exporter": "python",
   "pygments_lexer": "ipython3",
   "version": "3.8.11"
  }
 },
 "nbformat": 4,
 "nbformat_minor": 5
}
